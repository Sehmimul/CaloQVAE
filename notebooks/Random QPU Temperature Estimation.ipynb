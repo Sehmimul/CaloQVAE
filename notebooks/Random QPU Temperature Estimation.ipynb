{
 "cells": [
  {
   "cell_type": "code",
   "execution_count": 1,
   "id": "0b516566",
   "metadata": {},
   "outputs": [
    {
     "name": "stdout",
     "output_type": "stream",
     "text": [
      "/home/s4hoque/DiVAE\n"
     ]
    }
   ],
   "source": [
    "%cd .."
   ]
  },
  {
   "cell_type": "code",
   "execution_count": 2,
   "id": "109b14f9",
   "metadata": {},
   "outputs": [
    {
     "name": "stderr",
     "output_type": "stream",
     "text": [
      "\u001b[1m[07:17:29.743]\u001b[0m \u001b[1;95mINFO \u001b[1;0m  \u001b[1mDiVAE                                             \u001b[0mWillkommen!\n",
      "\u001b[1m[07:17:29.745]\u001b[0m \u001b[1;95mINFO \u001b[1;0m  \u001b[1mDiVAE                                             \u001b[0mLoading configuration.\n",
      "2022-09-22 07:17:30,745 dwave.cloud \u001b[1;95mINFO \u001b[1;0m MainThread Log level for 'dwave.cloud' namespace set to 0\n",
      "\u001b[1m[07:17:30.745]\u001b[0m \u001b[1;95mINFO \u001b[1;0m  \u001b[1mdwave.cloud                                       \u001b[0mLog level for 'dwave.cloud' namespace set to 0\n"
     ]
    }
   ],
   "source": [
    "# Python imports\n",
    "import os\n",
    "import sys\n",
    "\n",
    "# Add the path to the parent directory to augment search for module\n",
    "sys.path.append(os.getcwd())\n",
    "# Add the path to the parent directory to augment search for module\n",
    "par_dir = os.path.abspath(os.path.join(os.getcwd(), os.pardir))\n",
    "if par_dir not in sys.path:\n",
    "    sys.path.append(par_dir)\n",
    "    \n",
    "# ML imports\n",
    "import torch\n",
    "import matplotlib.pyplot as plt\n",
    "import numpy as np\n",
    "from hydra import initialize, initialize_config_module, initialize_config_dir, compose\n",
    "from omegaconf import OmegaConf\n",
    "\n",
    "# DiVAE imports\n",
    "from models.rbm.chimeraRBM import ChimeraRBM\n",
    "from models.rbm.qimeraRBM import QimeraRBM\n",
    "from models.rbm.rbm import RBM\n",
    "from models.samplers.pcd import PCD\n",
    "from models.autoencoders.gumboltCaloCRBM import GumBoltCaloCRBM\n",
    "\n",
    "from nbutils import *\n",
    "\n",
    "# DWave imports\n",
    "from dwave.system import DWaveSampler, LeapHybridSampler\n",
    "import neal"
   ]
  },
  {
   "cell_type": "code",
   "execution_count": 3,
   "id": "e9bc2be4",
   "metadata": {},
   "outputs": [],
   "source": [
    "ZERO = torch.tensor(0., dtype=torch.float)\n",
    "MINUS_ONE = torch.tensor(-1., dtype=torch.float)"
   ]
  },
  {
   "cell_type": "code",
   "execution_count": 4,
   "id": "35b7cf68",
   "metadata": {},
   "outputs": [],
   "source": [
    "def init_model(cfg):\n",
    "    model = GumBoltCaloCRBM(flat_input_size=[504],\n",
    "                            train_ds_mean=0.,\n",
    "                            activation_fct=torch.nn.ReLU(),\n",
    "                            cfg=cfg)\n",
    "    return model"
   ]
  },
  {
   "cell_type": "code",
   "execution_count": 5,
   "id": "97495cbd",
   "metadata": {},
   "outputs": [
    {
     "name": "stderr",
     "output_type": "stream",
     "text": [
      "/opt/conda/lib/python3.8/site-packages/hydra/_internal/defaults_list.py:251: UserWarning: In 'config': Defaults list is missing `_self_`. See https://hydra.cc/docs/upgrades/1.0_to_1.1/default_composition_order for more information\n",
      "  warnings.warn(msg, UserWarning)\n"
     ]
    }
   ],
   "source": [
    "with initialize(config_path=\"../configs\"):\n",
    "    cfg = compose(config_name=\"config\")"
   ]
  },
  {
   "cell_type": "code",
   "execution_count": 6,
   "id": "e24e9ce7",
   "metadata": {},
   "outputs": [
    {
     "data": {
      "text/plain": [
       "'/home/s4hoque/DiVAE'"
      ]
     },
     "execution_count": 6,
     "metadata": {},
     "output_type": "execute_result"
    }
   ],
   "source": [
    "%pwd"
   ]
  },
  {
   "cell_type": "code",
   "execution_count": 7,
   "id": "a7b4533b",
   "metadata": {},
   "outputs": [
    {
     "name": "stderr",
     "output_type": "stream",
     "text": [
      "2022-09-22 07:17:49,119 dwave.cloud.client.base \u001b[1;95mINFO \u001b[1;0m MainThread Fetching available regions from the Metadata API at 'https://cloud.dwavesys.com/metadata/v1/'\n",
      "\u001b[1m[07:17:49.119]\u001b[0m \u001b[1;95mINFO \u001b[1;0m  \u001b[1mdwave.cloud.client.base                           \u001b[0mFetching available regions from the Metadata API at 'https://cloud.dwavesys.com/metadata/v1/'\n",
      "2022-09-22 07:17:49,460 dwave.cloud.client.base \u001b[1;95mINFO \u001b[1;0m MainThread Using region metadata: [Region(code='na-west-1', name='North America', endpoint='https://na-west-1.cloud.dwavesys.com/sapi/v2/'), Region(code='eu-central-1', name='Europe', endpoint='https://eu-central-1.cloud.dwavesys.com/sapi/v2/')]\n",
      "\u001b[1m[07:17:49.460]\u001b[0m \u001b[1;95mINFO \u001b[1;0m  \u001b[1mdwave.cloud.client.base                           \u001b[0mUsing region metadata: [Region(code='na-west-1', name='North America', endpoint='https://na-west-1.cloud.dwavesys.com/sapi/v2/'), Region(code='eu-central-1', name='Europe', endpoint='https://eu-central-1.cloud.dwavesys.com/sapi/v2/')]\n",
      "2022-09-22 07:17:49,515 dwave.cloud.client.base \u001b[1;95mINFO \u001b[1;0m MainThread Requested a solver that best matches feature filters={}\n",
      "\u001b[1m[07:17:49.515]\u001b[0m \u001b[1;95mINFO \u001b[1;0m  \u001b[1mdwave.cloud.client.base                           \u001b[0mRequested a solver that best matches feature filters={}\n",
      "2022-09-22 07:17:49,519 dwave.cloud.client.base \u001b[1;95mINFO \u001b[1;0m MainThread Fetching solvers according to filters={'topology__type': 'chimera', 'chip_id': 'DW_2000Q_6'}, order_by='avg_load'\n",
      "\u001b[1m[07:17:49.519]\u001b[0m \u001b[1;95mINFO \u001b[1;0m  \u001b[1mdwave.cloud.client.base                           \u001b[0mFetching solvers according to filters={'topology__type': 'chimera', 'chip_id': 'DW_2000Q_6'}, order_by='avg_load'\n",
      "2022-09-22 07:17:49,521 dwave.cloud.client.base \u001b[1;95mINFO \u001b[1;0m MainThread Fetching definitions of all available solvers\n",
      "\u001b[1m[07:17:49.521]\u001b[0m \u001b[1;95mINFO \u001b[1;0m  \u001b[1mdwave.cloud.client.base                           \u001b[0mFetching definitions of all available solvers\n",
      "2022-09-22 07:17:50,422 dwave.cloud.client.base \u001b[1;95mINFO \u001b[1;0m MainThread Received solver data for 7 solver(s).\n",
      "\u001b[1m[07:17:50.422]\u001b[0m \u001b[1;95mINFO \u001b[1;0m  \u001b[1mdwave.cloud.client.base                           \u001b[0mReceived solver data for 7 solver(s).\n",
      "2022-09-22 07:17:50,538 dwave.cloud.client.base \u001b[1;95mINFO \u001b[1;0m MainThread Adding solver StructuredSolver(id='DW_2000Q_6')\n",
      "\u001b[1m[07:17:50.538]\u001b[0m \u001b[1;95mINFO \u001b[1;0m  \u001b[1mdwave.cloud.client.base                           \u001b[0mAdding solver StructuredSolver(id='DW_2000Q_6')\n",
      "2022-09-22 07:17:50,606 dwave.cloud.client.base \u001b[1;95mINFO \u001b[1;0m MainThread Adding solver StructuredSolver(id='Advantage_system4.1')\n",
      "\u001b[1m[07:17:50.606]\u001b[0m \u001b[1;95mINFO \u001b[1;0m  \u001b[1mdwave.cloud.client.base                           \u001b[0mAdding solver StructuredSolver(id='Advantage_system4.1')\n",
      "2022-09-22 07:17:50,686 dwave.cloud.client.base \u001b[1;95mINFO \u001b[1;0m MainThread Adding solver StructuredSolver(id='Advantage_system6.1')\n",
      "\u001b[1m[07:17:50.686]\u001b[0m \u001b[1;95mINFO \u001b[1;0m  \u001b[1mdwave.cloud.client.base                           \u001b[0mAdding solver StructuredSolver(id='Advantage_system6.1')\n",
      "2022-09-22 07:17:50,706 dwave.cloud.client.base \u001b[1;95mINFO \u001b[1;0m MainThread Adding solver StructuredSolver(id='Advantage2_prototype1.1')\n",
      "\u001b[1m[07:17:50.706]\u001b[0m \u001b[1;95mINFO \u001b[1;0m  \u001b[1mdwave.cloud.client.base                           \u001b[0mAdding solver StructuredSolver(id='Advantage2_prototype1.1')\n",
      "2022-09-22 07:17:50,709 dwave.cloud.client.base \u001b[1;95mINFO \u001b[1;0m MainThread Filtered solvers=[StructuredSolver(id='DW_2000Q_6')]\n",
      "\u001b[1m[07:17:50.709]\u001b[0m \u001b[1;95mINFO \u001b[1;0m  \u001b[1mdwave.cloud.client.base                           \u001b[0mFiltered solvers=[StructuredSolver(id='DW_2000Q_6')]\n",
      "2022-09-22 07:17:50,773 dwave.cloud.client.base \u001b[1;95mINFO \u001b[1;0m MainThread Using region metadata: [Region(code='na-west-1', name='North America', endpoint='https://na-west-1.cloud.dwavesys.com/sapi/v2/'), Region(code='eu-central-1', name='Europe', endpoint='https://eu-central-1.cloud.dwavesys.com/sapi/v2/')]\n",
      "\u001b[1m[07:17:50.773]\u001b[0m \u001b[1;95mINFO \u001b[1;0m  \u001b[1mdwave.cloud.client.base                           \u001b[0mUsing region metadata: [Region(code='na-west-1', name='North America', endpoint='https://na-west-1.cloud.dwavesys.com/sapi/v2/'), Region(code='eu-central-1', name='Europe', endpoint='https://eu-central-1.cloud.dwavesys.com/sapi/v2/')]\n",
      "2022-09-22 07:17:50,827 dwave.cloud.client.base \u001b[1;95mINFO \u001b[1;0m MainThread Requested a solver that best matches feature filters={}\n",
      "\u001b[1m[07:17:50.827]\u001b[0m \u001b[1;95mINFO \u001b[1;0m  \u001b[1mdwave.cloud.client.base                           \u001b[0mRequested a solver that best matches feature filters={}\n",
      "2022-09-22 07:17:50,829 dwave.cloud.client.base \u001b[1;95mINFO \u001b[1;0m MainThread Fetching solvers according to filters={'topology__type': 'chimera', 'chip_id': 'DW_2000Q_6'}, order_by='avg_load'\n",
      "\u001b[1m[07:17:50.829]\u001b[0m \u001b[1;95mINFO \u001b[1;0m  \u001b[1mdwave.cloud.client.base                           \u001b[0mFetching solvers according to filters={'topology__type': 'chimera', 'chip_id': 'DW_2000Q_6'}, order_by='avg_load'\n",
      "2022-09-22 07:17:50,831 dwave.cloud.client.base \u001b[1;95mINFO \u001b[1;0m MainThread Fetching definitions of all available solvers\n",
      "\u001b[1m[07:17:50.831]\u001b[0m \u001b[1;95mINFO \u001b[1;0m  \u001b[1mdwave.cloud.client.base                           \u001b[0mFetching definitions of all available solvers\n",
      "2022-09-22 07:17:51,863 dwave.cloud.client.base \u001b[1;95mINFO \u001b[1;0m MainThread Received solver data for 7 solver(s).\n",
      "\u001b[1m[07:17:51.863]\u001b[0m \u001b[1;95mINFO \u001b[1;0m  \u001b[1mdwave.cloud.client.base                           \u001b[0mReceived solver data for 7 solver(s).\n",
      "2022-09-22 07:17:51,873 dwave.cloud.client.base \u001b[1;95mINFO \u001b[1;0m MainThread Adding solver StructuredSolver(id='DW_2000Q_6')\n",
      "\u001b[1m[07:17:51.873]\u001b[0m \u001b[1;95mINFO \u001b[1;0m  \u001b[1mdwave.cloud.client.base                           \u001b[0mAdding solver StructuredSolver(id='DW_2000Q_6')\n",
      "2022-09-22 07:17:51,938 dwave.cloud.client.base \u001b[1;95mINFO \u001b[1;0m MainThread Adding solver StructuredSolver(id='Advantage_system4.1')\n",
      "\u001b[1m[07:17:51.938]\u001b[0m \u001b[1;95mINFO \u001b[1;0m  \u001b[1mdwave.cloud.client.base                           \u001b[0mAdding solver StructuredSolver(id='Advantage_system4.1')\n",
      "2022-09-22 07:17:52,011 dwave.cloud.client.base \u001b[1;95mINFO \u001b[1;0m MainThread Adding solver StructuredSolver(id='Advantage_system6.1')\n",
      "\u001b[1m[07:17:52.011]\u001b[0m \u001b[1;95mINFO \u001b[1;0m  \u001b[1mdwave.cloud.client.base                           \u001b[0mAdding solver StructuredSolver(id='Advantage_system6.1')\n",
      "2022-09-22 07:17:52,032 dwave.cloud.client.base \u001b[1;95mINFO \u001b[1;0m MainThread Adding solver StructuredSolver(id='Advantage2_prototype1.1')\n",
      "\u001b[1m[07:17:52.032]\u001b[0m \u001b[1;95mINFO \u001b[1;0m  \u001b[1mdwave.cloud.client.base                           \u001b[0mAdding solver StructuredSolver(id='Advantage2_prototype1.1')\n",
      "2022-09-22 07:17:52,035 dwave.cloud.client.base \u001b[1;95mINFO \u001b[1;0m MainThread Filtered solvers=[StructuredSolver(id='DW_2000Q_6')]\n",
      "\u001b[1m[07:17:52.035]\u001b[0m \u001b[1;95mINFO \u001b[1;0m  \u001b[1mdwave.cloud.client.base                           \u001b[0mFiltered solvers=[StructuredSolver(id='DW_2000Q_6')]\n"
     ]
    },
    {
     "name": "stdout",
     "output_type": "stream",
     "text": [
      "Initializing NetworkV3\n"
     ]
    }
   ],
   "source": [
    "model = init_model(cfg)\n",
    "model.create_networks()"
   ]
  },
  {
   "cell_type": "code",
   "execution_count": 8,
   "id": "d6b5224c",
   "metadata": {},
   "outputs": [
    {
     "data": {
      "text/plain": [
       "'\\nNo need to run this for beta_eff* estimation\\n'"
      ]
     },
     "execution_count": 8,
     "metadata": {},
     "output_type": "execute_result"
    }
   ],
   "source": [
    "\"\"\"\n",
    "No need to run this for beta_eff* estimation\n",
    "\"\"\"\n",
    "# run_path = '/home/akajal/DiVAE/outputs/2022-03-11/15-21-04/wandb/run-20220311_152104-2junzvyl/files/GumBoltCaloCRBM_calo_default_latest.pth'\n",
    "# load_state(model, run_path, 'cuda:{0}'.format(cfg.gpu_list[0]))"
   ]
  },
  {
   "cell_type": "code",
   "execution_count": 9,
   "id": "6656c90b",
   "metadata": {},
   "outputs": [
    {
     "name": "stderr",
     "output_type": "stream",
     "text": [
      "2022-09-22 07:17:57,720 dwave.cloud.client.base \u001b[1;95mINFO \u001b[1;0m MainThread Using region metadata: [Region(code='na-west-1', name='North America', endpoint='https://na-west-1.cloud.dwavesys.com/sapi/v2/'), Region(code='eu-central-1', name='Europe', endpoint='https://eu-central-1.cloud.dwavesys.com/sapi/v2/')]\n",
      "\u001b[1m[07:17:57.720]\u001b[0m \u001b[1;95mINFO \u001b[1;0m  \u001b[1mdwave.cloud.client.base                           \u001b[0mUsing region metadata: [Region(code='na-west-1', name='North America', endpoint='https://na-west-1.cloud.dwavesys.com/sapi/v2/'), Region(code='eu-central-1', name='Europe', endpoint='https://eu-central-1.cloud.dwavesys.com/sapi/v2/')]\n",
      "2022-09-22 07:17:57,786 dwave.cloud.client.base \u001b[1;95mINFO \u001b[1;0m MainThread Requested a solver that best matches feature filters={}\n",
      "\u001b[1m[07:17:57.786]\u001b[0m \u001b[1;95mINFO \u001b[1;0m  \u001b[1mdwave.cloud.client.base                           \u001b[0mRequested a solver that best matches feature filters={}\n",
      "2022-09-22 07:17:57,790 dwave.cloud.client.base \u001b[1;95mINFO \u001b[1;0m MainThread Fetching solvers according to filters={'topology__type': 'chimera', 'chip_id': 'DW_2000Q_6'}, order_by='avg_load'\n",
      "\u001b[1m[07:17:57.790]\u001b[0m \u001b[1;95mINFO \u001b[1;0m  \u001b[1mdwave.cloud.client.base                           \u001b[0mFetching solvers according to filters={'topology__type': 'chimera', 'chip_id': 'DW_2000Q_6'}, order_by='avg_load'\n",
      "2022-09-22 07:17:57,792 dwave.cloud.client.base \u001b[1;95mINFO \u001b[1;0m MainThread Fetching definitions of all available solvers\n",
      "\u001b[1m[07:17:57.792]\u001b[0m \u001b[1;95mINFO \u001b[1;0m  \u001b[1mdwave.cloud.client.base                           \u001b[0mFetching definitions of all available solvers\n",
      "2022-09-22 07:17:58,801 dwave.cloud.client.base \u001b[1;95mINFO \u001b[1;0m MainThread Received solver data for 7 solver(s).\n",
      "\u001b[1m[07:17:58.801]\u001b[0m \u001b[1;95mINFO \u001b[1;0m  \u001b[1mdwave.cloud.client.base                           \u001b[0mReceived solver data for 7 solver(s).\n",
      "2022-09-22 07:17:58,808 dwave.cloud.client.base \u001b[1;95mINFO \u001b[1;0m MainThread Adding solver StructuredSolver(id='DW_2000Q_6')\n",
      "\u001b[1m[07:17:58.808]\u001b[0m \u001b[1;95mINFO \u001b[1;0m  \u001b[1mdwave.cloud.client.base                           \u001b[0mAdding solver StructuredSolver(id='DW_2000Q_6')\n",
      "2022-09-22 07:17:58,871 dwave.cloud.client.base \u001b[1;95mINFO \u001b[1;0m MainThread Adding solver StructuredSolver(id='Advantage_system4.1')\n",
      "\u001b[1m[07:17:58.871]\u001b[0m \u001b[1;95mINFO \u001b[1;0m  \u001b[1mdwave.cloud.client.base                           \u001b[0mAdding solver StructuredSolver(id='Advantage_system4.1')\n",
      "2022-09-22 07:17:58,944 dwave.cloud.client.base \u001b[1;95mINFO \u001b[1;0m MainThread Adding solver StructuredSolver(id='Advantage_system6.1')\n",
      "\u001b[1m[07:17:58.944]\u001b[0m \u001b[1;95mINFO \u001b[1;0m  \u001b[1mdwave.cloud.client.base                           \u001b[0mAdding solver StructuredSolver(id='Advantage_system6.1')\n",
      "2022-09-22 07:17:58,965 dwave.cloud.client.base \u001b[1;95mINFO \u001b[1;0m MainThread Adding solver StructuredSolver(id='Advantage2_prototype1.1')\n",
      "\u001b[1m[07:17:58.965]\u001b[0m \u001b[1;95mINFO \u001b[1;0m  \u001b[1mdwave.cloud.client.base                           \u001b[0mAdding solver StructuredSolver(id='Advantage2_prototype1.1')\n",
      "2022-09-22 07:17:58,968 dwave.cloud.client.base \u001b[1;95mINFO \u001b[1;0m MainThread Filtered solvers=[StructuredSolver(id='DW_2000Q_6')]\n",
      "\u001b[1m[07:17:58.968]\u001b[0m \u001b[1;95mINFO \u001b[1;0m  \u001b[1mdwave.cloud.client.base                           \u001b[0mFiltered solvers=[StructuredSolver(id='DW_2000Q_6')]\n",
      "2022-09-22 07:17:58,986 dwave.cloud.client.base \u001b[1;95mINFO \u001b[1;0m MainThread Using region metadata: [Region(code='na-west-1', name='North America', endpoint='https://na-west-1.cloud.dwavesys.com/sapi/v2/'), Region(code='eu-central-1', name='Europe', endpoint='https://eu-central-1.cloud.dwavesys.com/sapi/v2/')]\n",
      "\u001b[1m[07:17:58.986]\u001b[0m \u001b[1;95mINFO \u001b[1;0m  \u001b[1mdwave.cloud.client.base                           \u001b[0mUsing region metadata: [Region(code='na-west-1', name='North America', endpoint='https://na-west-1.cloud.dwavesys.com/sapi/v2/'), Region(code='eu-central-1', name='Europe', endpoint='https://eu-central-1.cloud.dwavesys.com/sapi/v2/')]\n",
      "2022-09-22 07:17:59,044 dwave.cloud.client.base \u001b[1;95mINFO \u001b[1;0m MainThread Requested a solver that best matches feature filters={}\n",
      "\u001b[1m[07:17:59.044]\u001b[0m \u001b[1;95mINFO \u001b[1;0m  \u001b[1mdwave.cloud.client.base                           \u001b[0mRequested a solver that best matches feature filters={}\n",
      "2022-09-22 07:17:59,047 dwave.cloud.client.base \u001b[1;95mINFO \u001b[1;0m MainThread Fetching solvers according to filters={'topology__type': 'chimera', 'chip_id': 'DW_2000Q_6'}, order_by='avg_load'\n",
      "\u001b[1m[07:17:59.047]\u001b[0m \u001b[1;95mINFO \u001b[1;0m  \u001b[1mdwave.cloud.client.base                           \u001b[0mFetching solvers according to filters={'topology__type': 'chimera', 'chip_id': 'DW_2000Q_6'}, order_by='avg_load'\n",
      "2022-09-22 07:17:59,048 dwave.cloud.client.base \u001b[1;95mINFO \u001b[1;0m MainThread Fetching definitions of all available solvers\n",
      "\u001b[1m[07:17:59.048]\u001b[0m \u001b[1;95mINFO \u001b[1;0m  \u001b[1mdwave.cloud.client.base                           \u001b[0mFetching definitions of all available solvers\n",
      "2022-09-22 07:17:59,823 dwave.cloud.client.base \u001b[1;95mINFO \u001b[1;0m MainThread Received solver data for 7 solver(s).\n",
      "\u001b[1m[07:17:59.823]\u001b[0m \u001b[1;95mINFO \u001b[1;0m  \u001b[1mdwave.cloud.client.base                           \u001b[0mReceived solver data for 7 solver(s).\n",
      "2022-09-22 07:17:59,830 dwave.cloud.client.base \u001b[1;95mINFO \u001b[1;0m MainThread Adding solver StructuredSolver(id='DW_2000Q_6')\n",
      "\u001b[1m[07:17:59.830]\u001b[0m \u001b[1;95mINFO \u001b[1;0m  \u001b[1mdwave.cloud.client.base                           \u001b[0mAdding solver StructuredSolver(id='DW_2000Q_6')\n",
      "2022-09-22 07:17:59,900 dwave.cloud.client.base \u001b[1;95mINFO \u001b[1;0m MainThread Adding solver StructuredSolver(id='Advantage_system4.1')\n",
      "\u001b[1m[07:17:59.900]\u001b[0m \u001b[1;95mINFO \u001b[1;0m  \u001b[1mdwave.cloud.client.base                           \u001b[0mAdding solver StructuredSolver(id='Advantage_system4.1')\n",
      "2022-09-22 07:17:59,972 dwave.cloud.client.base \u001b[1;95mINFO \u001b[1;0m MainThread Adding solver StructuredSolver(id='Advantage_system6.1')\n",
      "\u001b[1m[07:17:59.972]\u001b[0m \u001b[1;95mINFO \u001b[1;0m  \u001b[1mdwave.cloud.client.base                           \u001b[0mAdding solver StructuredSolver(id='Advantage_system6.1')\n",
      "2022-09-22 07:17:59,993 dwave.cloud.client.base \u001b[1;95mINFO \u001b[1;0m MainThread Adding solver StructuredSolver(id='Advantage2_prototype1.1')\n",
      "\u001b[1m[07:17:59.993]\u001b[0m \u001b[1;95mINFO \u001b[1;0m  \u001b[1mdwave.cloud.client.base                           \u001b[0mAdding solver StructuredSolver(id='Advantage2_prototype1.1')\n",
      "2022-09-22 07:17:59,995 dwave.cloud.client.base \u001b[1;95mINFO \u001b[1;0m MainThread Filtered solvers=[StructuredSolver(id='DW_2000Q_6')]\n",
      "\u001b[1m[07:17:59.995]\u001b[0m \u001b[1;95mINFO \u001b[1;0m  \u001b[1mdwave.cloud.client.base                           \u001b[0mFiltered solvers=[StructuredSolver(id='DW_2000Q_6')]\n"
     ]
    }
   ],
   "source": [
    "qpu_sampler = DWaveSampler(solver={\"topology__type\":\"chimera\", \"chip_id\":\"DW_2000Q_6\"}, token=\"DEV-3f2d995f7cc156db3ee4077a24fcc9fbb69f48ea\")\n",
    "\n",
    "aux_crbm = QimeraRBM(n_visible=model.prior._n_visible, n_hidden=model.prior._n_hidden)\n",
    "aux_crbm_sampler = PCD(batch_size=1024, RBM=aux_crbm, n_gibbs_sampling_steps=100)"
   ]
  },
  {
   "cell_type": "code",
   "execution_count": 55,
   "id": "502844c5",
   "metadata": {},
   "outputs": [],
   "source": [
    "def beta_fixed_qpu(num_iterations:int=10, lr:float=0.01, beta_init=10., n_reads:int=100, qpu_sampler=None, aux_crbm_sampler=None):\n",
    "    \"\"\"Estimate the temperature associated with a given QPU configuration\n",
    "    \n",
    "    :param num_iterations (int) : Number of iterations\n",
    "    :param lr (float) : Learning rate\n",
    "    :param beta_init (float) : Initial estimate of the QPU temperature\n",
    "    :param n_qpu_samples (int) : Number of QPU samples\n",
    "    :param qpu_sampler\n",
    "    \n",
    "    \"\"\"\n",
    "    assert qpu_sampler is not None\n",
    "    assert aux_crbm_sampler is not None\n",
    "    \n",
    "    beta = beta_init\n",
    "    betas = [beta]\n",
    "    \n",
    "    # Auxiliary scaled RBM\n",
    "    aux_crbm = aux_crbm_sampler.rbm\n",
    "    aux_crbm_edgelist = aux_crbm.pruned_edge_list\n",
    "    \n",
    "    # Setup QPU control variables\n",
    "    n_vis = len(aux_crbm.visible_qubit_idxs)\n",
    "    n_hid = len(aux_crbm.visible_qubit_idxs)\n",
    "    qubit_idxs = aux_crbm.visible_qubit_idxs+aux_crbm.hidden_qubit_idxs\n",
    "    \n",
    "    visible_idx_map = {visible_qubit_idx:i for i, visible_qubit_idx in enumerate(aux_crbm.visible_qubit_idxs)}\n",
    "    hidden_idx_map = {hidden_qubit_idx:i for i, hidden_qubit_idx in enumerate(aux_crbm.hidden_qubit_idxs)}\n",
    "        \n",
    "        \n",
    "    '''\n",
    "    We generate an Ising model with random weights and biases\n",
    "    Weights(J) are in [-1.5,0.5]\n",
    "    Biases(h) are in [-2,2]\n",
    "    '''\n",
    "    #wlim = [-1,1]\n",
    "    #ising_weights = torch.nn.Parameter((wlim[1]-wlim[0])*torch.rand(n_vis, n_hid) + wlim[0], requires_grad=False)\n",
    "    ising_weights = torch.nn.Parameter(-2*torch.rand(n_vis, n_hid) + 1.5, requires_grad=False)\n",
    "    \n",
    "    \"\"\"\n",
    "    Also note that we are using a Chimera RBM architecture. Thus we have to transform \n",
    "    our Ising model by modifying the couplings to get the Chimera RBM architecture.\n",
    "    We do this by masking the corresponding RBM weights of our ising_model\n",
    "    and then reverting the rbm model back to the ising model. \n",
    "    \"\"\"\n",
    "    aux_crbm_weights = 4.*ising_weights # weights of the corresponding RBM\n",
    "    aux_crbm_weights = aux_crbm_weights*aux_crbm.weights_mask # mask to get Chimera RBM architecture\n",
    "    ising_weights = aux_crbm_weights*0.25 # revert back to ising model\n",
    "    \n",
    "    hlim = [-2,2] # for now\n",
    "    ising_vbias = torch.nn.Parameter((hlim[1]-hlim[0])*torch.rand(n_vis)+hlim[0], requires_grad=False)\n",
    "    ising_hbias = torch.nn.Parameter((hlim[1]-hlim[0])*torch.rand(n_hid)+hlim[0], requires_grad=False)\n",
    "    \n",
    "    dwave_weights_np = -ising_weights.detach().cpu().numpy()\n",
    "    print(\"J range = ({0}, {1})\".format(np.min(dwave_weights_np),\n",
    "                                        np.max(dwave_weights_np)))\n",
    "    \n",
    "    h = {qubit_idx:0. for qubit_idx in qubit_idxs}\n",
    "    J = {}\n",
    "    for edge in aux_crbm_edgelist:\n",
    "        if edge[0] in aux_crbm.visible_qubit_idxs:\n",
    "            J[edge] = dwave_weights_np[visible_idx_map[edge[0]]][hidden_idx_map[edge[1]]]\n",
    "        else:\n",
    "            J[edge] = dwave_weights_np[visible_idx_map[edge[1]]][hidden_idx_map[edge[0]]]\n",
    "                \n",
    "    response = qpu_sampler.sample_ising(h, J, num_reads=n_reads, auto_scale=False)\n",
    "    dwave_samples, dwave_energies = batch_dwave_samples(response)\n",
    "    dwave_samples = torch.tensor(dwave_samples, dtype=torch.float)\n",
    "    dwave_vis, dwave_hid = dwave_samples[:, :n_vis], dwave_samples[:, n_vis:]\n",
    "        \n",
    "    dwave_energy_exp = ising_energies_exp(ising_weights, ising_vbias, ising_hbias, dwave_vis, dwave_hid)\n",
    "    dwave_energy_exp = torch.mean(dwave_energy_exp, axis=0)\n",
    "    print(\"dwave_energy_exp : {0}\".format(dwave_energy_exp))\n",
    "    \n",
    "    \"\"\"\n",
    "    Now recall we already have the weights of the auxilliary RBM from our previous work.\n",
    "    We now only need to convert the ising biases to RBM biases.\n",
    "    \"\"\"\n",
    "    aux_crbm._visible_bias = torch.nn.Parameter(2.*(ising_vbias - torch.sum(ising_weights, dim=1)), requires_grad=False)\n",
    "    aux_crbm._hidden_bias = torch.nn.Parameter(2.*(ising_hbias - torch.sum(ising_weights, dim=0)), requires_grad=False)\n",
    "    \n",
    "    \"\"\"\n",
    "    Recall that in each iteration of the beta_eff* estimation we change the RBM parameters. However\n",
    "    we still sample from the same RBM which has been initialized above. Hence, we keep track \n",
    "    of the original parameters by the following:\n",
    "    \"\"\"\n",
    "    rbm_orig_vis = aux_crbm._visible_bias\n",
    "    rbm_orig_hid = aux_crbm._hidden_bias\n",
    "    rbm_orig_weights = aux_crbm_weights\n",
    "    \n",
    "    for i in range(num_iterations):\n",
    "        # Calculate the rescaled parameters of the auxiliary RBM\n",
    "        aux_crbm.weights = aux_crbm_weights/beta\n",
    "        aux_crbm._visible_bias = torch.nn.Parameter(aux_crbm._visible_bias/beta, requires_grad=False) \n",
    "        aux_crbm._hidden_bias = torch.nn.Parameter(aux_crbm._hidden_bias/beta, requires_grad=False)\n",
    "        \n",
    "        \n",
    "        aux_crbm_sampler.rbm = aux_crbm\n",
    "        \n",
    "        aux_crbm_vis, aux_crbm_hid = aux_crbm_sampler.block_gibbs_sampling()\n",
    "        \n",
    "        \"\"\"\n",
    "        Finding energy using RBM method\n",
    "        \"\"\"\n",
    "        ising_energy_rbm_params = ising_energy_rbm(rbm_orig_weights, rbm_orig_vis, rbm_orig_hid, aux_crbm_vis, aux_crbm_hid)\n",
    "        rbm_energy_exp = torch.mean(ising_energy_rbm_params, axis=0)\n",
    "        \n",
    "        \n",
    "        aux_crbm_vis = torch.where(aux_crbm_vis == ZERO, MINUS_ONE, aux_crbm_vis)\n",
    "        aux_crbm_hid = torch.where(aux_crbm_hid == ZERO, MINUS_ONE, aux_crbm_hid)\n",
    "        \n",
    "        aux_crbm_energy_exp = ising_energies_exp(ising_weights, ising_vbias, ising_hbias, aux_crbm_vis, aux_crbm_hid)\n",
    "        aux_crbm_energy_exp = torch.mean(aux_crbm_energy_exp, axis=0)\n",
    "        \n",
    "        print(\"aux_crbm_energy_exp : {0}, rbm_exp : {1}, beta : {2}\".format(aux_crbm_energy_exp, rbm_energy_exp, beta))\n",
    "        beta = beta - lr*(-float(aux_crbm_energy_exp)+float(dwave_energy_exp))\n",
    "        betas.append(beta)\n",
    "        \n",
    "    return betas"
   ]
  },
  {
   "cell_type": "code",
   "execution_count": 58,
   "id": "597dad51",
   "metadata": {},
   "outputs": [
    {
     "name": "stdout",
     "output_type": "stream",
     "text": [
      "J range = (-1.4994338750839233, 0.49997055530548096)\n",
      "dwave_energy_exp : 498.97686767578125\n",
      "aux_crbm_energy_exp : 749.8893432617188, rbm_exp : 749.8892211914062, beta : 8.0\n",
      "aux_crbm_energy_exp : 1057.1163330078125, rbm_exp : 1057.1163330078125, beta : 8.025091247558594\n",
      "aux_crbm_energy_exp : 1121.641357421875, rbm_exp : 1121.641357421875, beta : 8.080905194091796\n",
      "aux_crbm_energy_exp : 1118.627197265625, rbm_exp : 1118.626953125, beta : 8.143171643066406\n",
      "aux_crbm_energy_exp : 1108.3907470703125, rbm_exp : 1108.3905029296875, beta : 8.20513667602539\n",
      "aux_crbm_energy_exp : 1095.786865234375, rbm_exp : 1095.786865234375, beta : 8.266078063964843\n",
      "aux_crbm_energy_exp : 1082.432373046875, rbm_exp : 1082.432373046875, beta : 8.325759063720701\n",
      "aux_crbm_energy_exp : 1070.8267822265625, rbm_exp : 1070.8267822265625, beta : 8.384104614257812\n",
      "aux_crbm_energy_exp : 1062.8834228515625, rbm_exp : 1062.8834228515625, beta : 8.441289605712889\n",
      "aux_crbm_energy_exp : 1055.784423828125, rbm_exp : 1055.784423828125, beta : 8.497680261230467\n",
      "aux_crbm_energy_exp : 1043.3941650390625, rbm_exp : 1043.39404296875, beta : 8.553361016845702\n",
      "aux_crbm_energy_exp : 1033.69677734375, rbm_exp : 1033.6966552734375, beta : 8.607802746582031\n",
      "aux_crbm_energy_exp : 1024.3070068359375, rbm_exp : 1024.3070068359375, beta : 8.661274737548828\n",
      "aux_crbm_energy_exp : 1016.0877075195312, rbm_exp : 1016.087646484375, beta : 8.713807751464843\n",
      "aux_crbm_energy_exp : 1009.5665893554688, rbm_exp : 1009.56640625, beta : 8.765518835449218\n",
      "aux_crbm_energy_exp : 997.7425537109375, rbm_exp : 997.7423095703125, beta : 8.816577807617186\n",
      "aux_crbm_energy_exp : 990.17724609375, rbm_exp : 990.1771850585938, beta : 8.866454376220702\n",
      "aux_crbm_energy_exp : 979.7454223632812, rbm_exp : 979.7455444335938, beta : 8.9155744140625\n",
      "aux_crbm_energy_exp : 969.6806030273438, rbm_exp : 969.6804809570312, beta : 8.96365126953125\n",
      "aux_crbm_energy_exp : 972.3817749023438, rbm_exp : 972.3818359375, beta : 9.010721643066406\n",
      "aux_crbm_energy_exp : 962.0216674804688, rbm_exp : 962.021484375, beta : 9.058062133789061\n",
      "aux_crbm_energy_exp : 951.5940551757812, rbm_exp : 951.593994140625, beta : 9.10436661376953\n",
      "aux_crbm_energy_exp : 944.273681640625, rbm_exp : 944.2735595703125, beta : 9.14962833251953\n",
      "aux_crbm_energy_exp : 936.9259643554688, rbm_exp : 936.9259033203125, beta : 9.194158013916015\n",
      "aux_crbm_energy_exp : 927.7930297851562, rbm_exp : 927.7928466796875, beta : 9.237952923583984\n",
      "aux_crbm_energy_exp : 928.2229614257812, rbm_exp : 928.2229614257812, beta : 9.280834539794922\n",
      "aux_crbm_energy_exp : 920.14453125, rbm_exp : 920.1444702148438, beta : 9.323759149169922\n",
      "aux_crbm_energy_exp : 917.5006713867188, rbm_exp : 917.5004272460938, beta : 9.365875915527344\n",
      "aux_crbm_energy_exp : 904.1124877929688, rbm_exp : 904.1123046875, beta : 9.407728295898437\n",
      "aux_crbm_energy_exp : 899.744384765625, rbm_exp : 899.7440795898438, beta : 9.448241857910157\n",
      "aux_crbm_energy_exp : 890.9129028320312, rbm_exp : 890.9127197265625, beta : 9.48831860961914\n",
      "aux_crbm_energy_exp : 883.5017700195312, rbm_exp : 883.5018920898438, beta : 9.527512213134765\n",
      "aux_crbm_energy_exp : 883.5214233398438, rbm_exp : 883.521240234375, beta : 9.56596470336914\n",
      "aux_crbm_energy_exp : 878.608154296875, rbm_exp : 878.608154296875, beta : 9.604419158935546\n",
      "aux_crbm_energy_exp : 876.1969604492188, rbm_exp : 876.1968994140625, beta : 9.642382287597655\n",
      "aux_crbm_energy_exp : 869.82080078125, rbm_exp : 869.8207397460938, beta : 9.680104296875\n",
      "aux_crbm_energy_exp : 861.1575317382812, rbm_exp : 861.1573486328125, beta : 9.717188690185546\n",
      "aux_crbm_energy_exp : 857.783203125, rbm_exp : 857.7830810546875, beta : 9.753406756591795\n",
      "aux_crbm_energy_exp : 855.5428466796875, rbm_exp : 855.5427856445312, beta : 9.789287390136717\n",
      "aux_crbm_energy_exp : 844.059326171875, rbm_exp : 844.0592651367188, beta : 9.824943988037107\n",
      "aux_crbm_energy_exp : 846.2149047851562, rbm_exp : 846.2147216796875, beta : 9.859452233886717\n",
      "aux_crbm_energy_exp : 839.2951049804688, rbm_exp : 839.2950439453125, beta : 9.894176037597655\n",
      "aux_crbm_energy_exp : 838.5501098632812, rbm_exp : 838.5498046875, beta : 9.928207861328124\n",
      "aux_crbm_energy_exp : 830.816162109375, rbm_exp : 830.81591796875, beta : 9.962165185546874\n",
      "aux_crbm_energy_exp : 828.0042724609375, rbm_exp : 828.0042114257812, beta : 9.995349114990233\n",
      "aux_crbm_energy_exp : 820.4314575195312, rbm_exp : 820.431396484375, beta : 10.02825185546875\n",
      "aux_crbm_energy_exp : 816.2130126953125, rbm_exp : 816.2127075195312, beta : 10.060397314453125\n",
      "aux_crbm_energy_exp : 816.1749877929688, rbm_exp : 816.1747436523438, beta : 10.092120928955078\n",
      "aux_crbm_energy_exp : 810.7127075195312, rbm_exp : 810.7125854492188, beta : 10.123840740966797\n",
      "aux_crbm_energy_exp : 804.81396484375, rbm_exp : 804.8138427734375, beta : 10.155014324951171\n",
      "aux_crbm_energy_exp : 806.4923095703125, rbm_exp : 806.4923095703125, beta : 10.185598034667969\n",
      "aux_crbm_energy_exp : 797.1876831054688, rbm_exp : 797.1875610351562, beta : 10.216349578857422\n",
      "aux_crbm_energy_exp : 795.0233764648438, rbm_exp : 795.0231323242188, beta : 10.24617066040039\n",
      "aux_crbm_energy_exp : 795.003173828125, rbm_exp : 795.003173828125, beta : 10.275775311279295\n",
      "aux_crbm_energy_exp : 793.3407592773438, rbm_exp : 793.3405151367188, beta : 10.305377941894529\n",
      "aux_crbm_energy_exp : 787.2212524414062, rbm_exp : 787.2211303710938, beta : 10.334814331054686\n",
      "aux_crbm_energy_exp : 783.6004638671875, rbm_exp : 783.6004028320312, beta : 10.363638769531248\n",
      "aux_crbm_energy_exp : 774.6353149414062, rbm_exp : 774.6351928710938, beta : 10.392101129150388\n",
      "aux_crbm_energy_exp : 779.1026000976562, rbm_exp : 779.1025390625, beta : 10.41966697387695\n",
      "aux_crbm_energy_exp : 771.6593627929688, rbm_exp : 771.6591796875, beta : 10.447679547119138\n",
      "aux_crbm_energy_exp : 768.7656860351562, rbm_exp : 768.7656860351562, beta : 10.474947796630858\n",
      "aux_crbm_energy_exp : 765.5137329101562, rbm_exp : 765.5135498046875, beta : 10.501926678466795\n",
      "aux_crbm_energy_exp : 759.2448120117188, rbm_exp : 759.24462890625, beta : 10.528580364990232\n",
      "aux_crbm_energy_exp : 757.8895874023438, rbm_exp : 757.8895263671875, beta : 10.554607159423826\n",
      "aux_crbm_energy_exp : 753.9899291992188, rbm_exp : 753.9899291992188, beta : 10.580498431396482\n",
      "aux_crbm_energy_exp : 752.9877319335938, rbm_exp : 752.9876708984375, beta : 10.605999737548826\n",
      "aux_crbm_energy_exp : 754.4525146484375, rbm_exp : 754.4523315429688, beta : 10.631400823974607\n",
      "aux_crbm_energy_exp : 748.3796997070312, rbm_exp : 748.3795166015625, beta : 10.656948388671873\n",
      "aux_crbm_energy_exp : 749.2940063476562, rbm_exp : 749.2937622070312, beta : 10.681888671874999\n",
      "aux_crbm_energy_exp : 747.562255859375, rbm_exp : 747.5621337890625, beta : 10.706920385742187\n",
      "aux_crbm_energy_exp : 740.2882080078125, rbm_exp : 740.2879638671875, beta : 10.731778924560546\n",
      "aux_crbm_energy_exp : 740.0928344726562, rbm_exp : 740.0927734375, beta : 10.755910058593749\n",
      "aux_crbm_energy_exp : 735.93310546875, rbm_exp : 735.9330444335938, beta : 10.780021655273437\n",
      "aux_crbm_energy_exp : 735.2880249023438, rbm_exp : 735.2877807617188, beta : 10.803717279052734\n",
      "aux_crbm_energy_exp : 731.443359375, rbm_exp : 731.4432983398438, beta : 10.82734839477539\n",
      "aux_crbm_energy_exp : 726.6834106445312, rbm_exp : 726.6834716796875, beta : 10.850595043945312\n",
      "aux_crbm_energy_exp : 725.1366577148438, rbm_exp : 725.1366577148438, beta : 10.873365698242187\n",
      "aux_crbm_energy_exp : 724.79052734375, rbm_exp : 724.7903442382812, beta : 10.895981677246093\n",
      "aux_crbm_energy_exp : 726.4614868164062, rbm_exp : 726.46142578125, beta : 10.91856304321289\n",
      "aux_crbm_energy_exp : 718.7982177734375, rbm_exp : 718.79833984375, beta : 10.941311505126952\n",
      "aux_crbm_energy_exp : 720.306640625, rbm_exp : 720.3065795898438, beta : 10.963293640136719\n",
      "aux_crbm_energy_exp : 718.4893798828125, rbm_exp : 718.4893798828125, beta : 10.98542661743164\n",
      "aux_crbm_energy_exp : 713.4302978515625, rbm_exp : 713.43017578125, beta : 11.007377868652343\n",
      "aux_crbm_energy_exp : 712.5076293945312, rbm_exp : 712.507568359375, beta : 11.028823211669922\n",
      "aux_crbm_energy_exp : 710.6898803710938, rbm_exp : 710.6898193359375, beta : 11.050176287841797\n",
      "aux_crbm_energy_exp : 706.7774047851562, rbm_exp : 706.7772827148438, beta : 11.071347589111328\n"
     ]
    },
    {
     "name": "stdout",
     "output_type": "stream",
     "text": [
      "aux_crbm_energy_exp : 703.9413452148438, rbm_exp : 703.9413452148438, beta : 11.092127642822266\n",
      "aux_crbm_energy_exp : 705.8516235351562, rbm_exp : 705.851806640625, beta : 11.112624090576173\n",
      "aux_crbm_energy_exp : 700.4968872070312, rbm_exp : 700.496826171875, beta : 11.13331156616211\n",
      "aux_crbm_energy_exp : 699.5419921875, rbm_exp : 699.5419311523438, beta : 11.153463568115235\n",
      "aux_crbm_energy_exp : 696.8995971679688, rbm_exp : 696.8994140625, beta : 11.173520080566407\n",
      "aux_crbm_energy_exp : 695.0702514648438, rbm_exp : 695.0701293945312, beta : 11.193312353515626\n",
      "aux_crbm_energy_exp : 692.5932006835938, rbm_exp : 692.5931396484375, beta : 11.212921691894532\n",
      "aux_crbm_energy_exp : 689.3853149414062, rbm_exp : 689.3853149414062, beta : 11.232283325195313\n",
      "aux_crbm_energy_exp : 685.7107543945312, rbm_exp : 685.7105712890625, beta : 11.251324169921876\n",
      "aux_crbm_energy_exp : 684.8931884765625, rbm_exp : 684.8931274414062, beta : 11.26999755859375\n",
      "aux_crbm_energy_exp : 683.94482421875, rbm_exp : 683.9447631835938, beta : 11.288589190673829\n",
      "aux_crbm_energy_exp : 688.1112060546875, rbm_exp : 688.1111450195312, beta : 11.307085986328126\n",
      "aux_crbm_energy_exp : 680.9056396484375, rbm_exp : 680.905517578125, beta : 11.325999420166017\n",
      "aux_crbm_energy_exp : 684.3095703125, rbm_exp : 684.3094482421875, beta : 11.344192297363282\n"
     ]
    }
   ],
   "source": [
    "betas = beta_fixed_qpu(num_iterations=100,\n",
    "                       lr=0.0001,\n",
    "                       beta_init=8.,\n",
    "                       n_reads=100,\n",
    "                       qpu_sampler=qpu_sampler,\n",
    "                       aux_crbm_sampler=aux_crbm_sampler)"
   ]
  },
  {
   "cell_type": "code",
   "execution_count": null,
   "id": "6a2b0329",
   "metadata": {},
   "outputs": [],
   "source": [
    "plot_betas(betas)"
   ]
  },
  {
   "cell_type": "code",
   "execution_count": null,
   "id": "c92b20c2",
   "metadata": {},
   "outputs": [],
   "source": []
  },
  {
   "cell_type": "code",
   "execution_count": null,
   "id": "37fc8fca",
   "metadata": {},
   "outputs": [],
   "source": []
  }
 ],
 "metadata": {
  "kernelspec": {
   "display_name": "Python 3 (ipykernel)",
   "language": "python",
   "name": "python3"
  },
  "language_info": {
   "codemirror_mode": {
    "name": "ipython",
    "version": 3
   },
   "file_extension": ".py",
   "mimetype": "text/x-python",
   "name": "python",
   "nbconvert_exporter": "python",
   "pygments_lexer": "ipython3",
   "version": "3.8.12"
  }
 },
 "nbformat": 4,
 "nbformat_minor": 5
}
