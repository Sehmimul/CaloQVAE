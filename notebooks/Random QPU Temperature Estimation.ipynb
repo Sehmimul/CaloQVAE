{
 "cells": [
  {
   "cell_type": "code",
   "execution_count": 1,
   "id": "0b516566",
   "metadata": {},
   "outputs": [
    {
     "name": "stdout",
     "output_type": "stream",
     "text": [
      "/home/s4hoque/DiVAE\n"
     ]
    }
   ],
   "source": [
    "%cd .."
   ]
  },
  {
   "cell_type": "code",
   "execution_count": 2,
   "id": "109b14f9",
   "metadata": {},
   "outputs": [
    {
     "name": "stderr",
     "output_type": "stream",
     "text": [
      "\u001b[1m[07:17:29.743]\u001b[0m \u001b[1;95mINFO \u001b[1;0m  \u001b[1mDiVAE                                             \u001b[0mWillkommen!\n",
      "\u001b[1m[07:17:29.745]\u001b[0m \u001b[1;95mINFO \u001b[1;0m  \u001b[1mDiVAE                                             \u001b[0mLoading configuration.\n",
      "2022-09-22 07:17:30,745 dwave.cloud \u001b[1;95mINFO \u001b[1;0m MainThread Log level for 'dwave.cloud' namespace set to 0\n",
      "\u001b[1m[07:17:30.745]\u001b[0m \u001b[1;95mINFO \u001b[1;0m  \u001b[1mdwave.cloud                                       \u001b[0mLog level for 'dwave.cloud' namespace set to 0\n"
     ]
    }
   ],
   "source": [
    "# Python imports\n",
    "import os\n",
    "import sys\n",
    "\n",
    "# Add the path to the parent directory to augment search for module\n",
    "sys.path.append(os.getcwd())\n",
    "# Add the path to the parent directory to augment search for module\n",
    "par_dir = os.path.abspath(os.path.join(os.getcwd(), os.pardir))\n",
    "if par_dir not in sys.path:\n",
    "    sys.path.append(par_dir)\n",
    "    \n",
    "# ML imports\n",
    "import torch\n",
    "import matplotlib.pyplot as plt\n",
    "import numpy as np\n",
    "from hydra import initialize, initialize_config_module, initialize_config_dir, compose\n",
    "from omegaconf import OmegaConf\n",
    "\n",
    "# DiVAE imports\n",
    "from models.rbm.chimeraRBM import ChimeraRBM\n",
    "from models.rbm.qimeraRBM import QimeraRBM\n",
    "from models.rbm.rbm import RBM\n",
    "from models.samplers.pcd import PCD\n",
    "from models.autoencoders.gumboltCaloCRBM import GumBoltCaloCRBM\n",
    "\n",
    "from nbutils import *\n",
    "\n",
    "# DWave imports\n",
    "from dwave.system import DWaveSampler, LeapHybridSampler\n",
    "import neal"
   ]
  },
  {
   "cell_type": "code",
   "execution_count": 3,
   "id": "e9bc2be4",
   "metadata": {},
   "outputs": [],
   "source": [
    "ZERO = torch.tensor(0., dtype=torch.float)\n",
    "MINUS_ONE = torch.tensor(-1., dtype=torch.float)"
   ]
  },
  {
   "cell_type": "code",
   "execution_count": 4,
   "id": "35b7cf68",
   "metadata": {},
   "outputs": [],
   "source": [
    "def init_model(cfg):\n",
    "    model = GumBoltCaloCRBM(flat_input_size=[504],\n",
    "                            train_ds_mean=0.,\n",
    "                            activation_fct=torch.nn.ReLU(),\n",
    "                            cfg=cfg)\n",
    "    return model"
   ]
  },
  {
   "cell_type": "code",
   "execution_count": 5,
   "id": "97495cbd",
   "metadata": {},
   "outputs": [
    {
     "name": "stderr",
     "output_type": "stream",
     "text": [
      "/opt/conda/lib/python3.8/site-packages/hydra/_internal/defaults_list.py:251: UserWarning: In 'config': Defaults list is missing `_self_`. See https://hydra.cc/docs/upgrades/1.0_to_1.1/default_composition_order for more information\n",
      "  warnings.warn(msg, UserWarning)\n"
     ]
    }
   ],
   "source": [
    "with initialize(config_path=\"../configs\"):\n",
    "    cfg = compose(config_name=\"config\")"
   ]
  },
  {
   "cell_type": "code",
   "execution_count": 6,
   "id": "e24e9ce7",
   "metadata": {},
   "outputs": [
    {
     "data": {
      "text/plain": [
       "'/home/s4hoque/DiVAE'"
      ]
     },
     "execution_count": 6,
     "metadata": {},
     "output_type": "execute_result"
    }
   ],
   "source": [
    "%pwd"
   ]
  },
  {
   "cell_type": "code",
   "execution_count": 7,
   "id": "a7b4533b",
   "metadata": {},
   "outputs": [
    {
     "name": "stderr",
     "output_type": "stream",
     "text": [
      "2022-09-22 07:17:49,119 dwave.cloud.client.base \u001b[1;95mINFO \u001b[1;0m MainThread Fetching available regions from the Metadata API at 'https://cloud.dwavesys.com/metadata/v1/'\n",
      "\u001b[1m[07:17:49.119]\u001b[0m \u001b[1;95mINFO \u001b[1;0m  \u001b[1mdwave.cloud.client.base                           \u001b[0mFetching available regions from the Metadata API at 'https://cloud.dwavesys.com/metadata/v1/'\n",
      "2022-09-22 07:17:49,460 dwave.cloud.client.base \u001b[1;95mINFO \u001b[1;0m MainThread Using region metadata: [Region(code='na-west-1', name='North America', endpoint='https://na-west-1.cloud.dwavesys.com/sapi/v2/'), Region(code='eu-central-1', name='Europe', endpoint='https://eu-central-1.cloud.dwavesys.com/sapi/v2/')]\n",
      "\u001b[1m[07:17:49.460]\u001b[0m \u001b[1;95mINFO \u001b[1;0m  \u001b[1mdwave.cloud.client.base                           \u001b[0mUsing region metadata: [Region(code='na-west-1', name='North America', endpoint='https://na-west-1.cloud.dwavesys.com/sapi/v2/'), Region(code='eu-central-1', name='Europe', endpoint='https://eu-central-1.cloud.dwavesys.com/sapi/v2/')]\n",
      "2022-09-22 07:17:49,515 dwave.cloud.client.base \u001b[1;95mINFO \u001b[1;0m MainThread Requested a solver that best matches feature filters={}\n",
      "\u001b[1m[07:17:49.515]\u001b[0m \u001b[1;95mINFO \u001b[1;0m  \u001b[1mdwave.cloud.client.base                           \u001b[0mRequested a solver that best matches feature filters={}\n",
      "2022-09-22 07:17:49,519 dwave.cloud.client.base \u001b[1;95mINFO \u001b[1;0m MainThread Fetching solvers according to filters={'topology__type': 'chimera', 'chip_id': 'DW_2000Q_6'}, order_by='avg_load'\n",
      "\u001b[1m[07:17:49.519]\u001b[0m \u001b[1;95mINFO \u001b[1;0m  \u001b[1mdwave.cloud.client.base                           \u001b[0mFetching solvers according to filters={'topology__type': 'chimera', 'chip_id': 'DW_2000Q_6'}, order_by='avg_load'\n",
      "2022-09-22 07:17:49,521 dwave.cloud.client.base \u001b[1;95mINFO \u001b[1;0m MainThread Fetching definitions of all available solvers\n",
      "\u001b[1m[07:17:49.521]\u001b[0m \u001b[1;95mINFO \u001b[1;0m  \u001b[1mdwave.cloud.client.base                           \u001b[0mFetching definitions of all available solvers\n",
      "2022-09-22 07:17:50,422 dwave.cloud.client.base \u001b[1;95mINFO \u001b[1;0m MainThread Received solver data for 7 solver(s).\n",
      "\u001b[1m[07:17:50.422]\u001b[0m \u001b[1;95mINFO \u001b[1;0m  \u001b[1mdwave.cloud.client.base                           \u001b[0mReceived solver data for 7 solver(s).\n",
      "2022-09-22 07:17:50,538 dwave.cloud.client.base \u001b[1;95mINFO \u001b[1;0m MainThread Adding solver StructuredSolver(id='DW_2000Q_6')\n",
      "\u001b[1m[07:17:50.538]\u001b[0m \u001b[1;95mINFO \u001b[1;0m  \u001b[1mdwave.cloud.client.base                           \u001b[0mAdding solver StructuredSolver(id='DW_2000Q_6')\n",
      "2022-09-22 07:17:50,606 dwave.cloud.client.base \u001b[1;95mINFO \u001b[1;0m MainThread Adding solver StructuredSolver(id='Advantage_system4.1')\n",
      "\u001b[1m[07:17:50.606]\u001b[0m \u001b[1;95mINFO \u001b[1;0m  \u001b[1mdwave.cloud.client.base                           \u001b[0mAdding solver StructuredSolver(id='Advantage_system4.1')\n",
      "2022-09-22 07:17:50,686 dwave.cloud.client.base \u001b[1;95mINFO \u001b[1;0m MainThread Adding solver StructuredSolver(id='Advantage_system6.1')\n",
      "\u001b[1m[07:17:50.686]\u001b[0m \u001b[1;95mINFO \u001b[1;0m  \u001b[1mdwave.cloud.client.base                           \u001b[0mAdding solver StructuredSolver(id='Advantage_system6.1')\n",
      "2022-09-22 07:17:50,706 dwave.cloud.client.base \u001b[1;95mINFO \u001b[1;0m MainThread Adding solver StructuredSolver(id='Advantage2_prototype1.1')\n",
      "\u001b[1m[07:17:50.706]\u001b[0m \u001b[1;95mINFO \u001b[1;0m  \u001b[1mdwave.cloud.client.base                           \u001b[0mAdding solver StructuredSolver(id='Advantage2_prototype1.1')\n",
      "2022-09-22 07:17:50,709 dwave.cloud.client.base \u001b[1;95mINFO \u001b[1;0m MainThread Filtered solvers=[StructuredSolver(id='DW_2000Q_6')]\n",
      "\u001b[1m[07:17:50.709]\u001b[0m \u001b[1;95mINFO \u001b[1;0m  \u001b[1mdwave.cloud.client.base                           \u001b[0mFiltered solvers=[StructuredSolver(id='DW_2000Q_6')]\n",
      "2022-09-22 07:17:50,773 dwave.cloud.client.base \u001b[1;95mINFO \u001b[1;0m MainThread Using region metadata: [Region(code='na-west-1', name='North America', endpoint='https://na-west-1.cloud.dwavesys.com/sapi/v2/'), Region(code='eu-central-1', name='Europe', endpoint='https://eu-central-1.cloud.dwavesys.com/sapi/v2/')]\n",
      "\u001b[1m[07:17:50.773]\u001b[0m \u001b[1;95mINFO \u001b[1;0m  \u001b[1mdwave.cloud.client.base                           \u001b[0mUsing region metadata: [Region(code='na-west-1', name='North America', endpoint='https://na-west-1.cloud.dwavesys.com/sapi/v2/'), Region(code='eu-central-1', name='Europe', endpoint='https://eu-central-1.cloud.dwavesys.com/sapi/v2/')]\n",
      "2022-09-22 07:17:50,827 dwave.cloud.client.base \u001b[1;95mINFO \u001b[1;0m MainThread Requested a solver that best matches feature filters={}\n",
      "\u001b[1m[07:17:50.827]\u001b[0m \u001b[1;95mINFO \u001b[1;0m  \u001b[1mdwave.cloud.client.base                           \u001b[0mRequested a solver that best matches feature filters={}\n",
      "2022-09-22 07:17:50,829 dwave.cloud.client.base \u001b[1;95mINFO \u001b[1;0m MainThread Fetching solvers according to filters={'topology__type': 'chimera', 'chip_id': 'DW_2000Q_6'}, order_by='avg_load'\n",
      "\u001b[1m[07:17:50.829]\u001b[0m \u001b[1;95mINFO \u001b[1;0m  \u001b[1mdwave.cloud.client.base                           \u001b[0mFetching solvers according to filters={'topology__type': 'chimera', 'chip_id': 'DW_2000Q_6'}, order_by='avg_load'\n",
      "2022-09-22 07:17:50,831 dwave.cloud.client.base \u001b[1;95mINFO \u001b[1;0m MainThread Fetching definitions of all available solvers\n",
      "\u001b[1m[07:17:50.831]\u001b[0m \u001b[1;95mINFO \u001b[1;0m  \u001b[1mdwave.cloud.client.base                           \u001b[0mFetching definitions of all available solvers\n",
      "2022-09-22 07:17:51,863 dwave.cloud.client.base \u001b[1;95mINFO \u001b[1;0m MainThread Received solver data for 7 solver(s).\n",
      "\u001b[1m[07:17:51.863]\u001b[0m \u001b[1;95mINFO \u001b[1;0m  \u001b[1mdwave.cloud.client.base                           \u001b[0mReceived solver data for 7 solver(s).\n",
      "2022-09-22 07:17:51,873 dwave.cloud.client.base \u001b[1;95mINFO \u001b[1;0m MainThread Adding solver StructuredSolver(id='DW_2000Q_6')\n",
      "\u001b[1m[07:17:51.873]\u001b[0m \u001b[1;95mINFO \u001b[1;0m  \u001b[1mdwave.cloud.client.base                           \u001b[0mAdding solver StructuredSolver(id='DW_2000Q_6')\n",
      "2022-09-22 07:17:51,938 dwave.cloud.client.base \u001b[1;95mINFO \u001b[1;0m MainThread Adding solver StructuredSolver(id='Advantage_system4.1')\n",
      "\u001b[1m[07:17:51.938]\u001b[0m \u001b[1;95mINFO \u001b[1;0m  \u001b[1mdwave.cloud.client.base                           \u001b[0mAdding solver StructuredSolver(id='Advantage_system4.1')\n",
      "2022-09-22 07:17:52,011 dwave.cloud.client.base \u001b[1;95mINFO \u001b[1;0m MainThread Adding solver StructuredSolver(id='Advantage_system6.1')\n",
      "\u001b[1m[07:17:52.011]\u001b[0m \u001b[1;95mINFO \u001b[1;0m  \u001b[1mdwave.cloud.client.base                           \u001b[0mAdding solver StructuredSolver(id='Advantage_system6.1')\n",
      "2022-09-22 07:17:52,032 dwave.cloud.client.base \u001b[1;95mINFO \u001b[1;0m MainThread Adding solver StructuredSolver(id='Advantage2_prototype1.1')\n",
      "\u001b[1m[07:17:52.032]\u001b[0m \u001b[1;95mINFO \u001b[1;0m  \u001b[1mdwave.cloud.client.base                           \u001b[0mAdding solver StructuredSolver(id='Advantage2_prototype1.1')\n",
      "2022-09-22 07:17:52,035 dwave.cloud.client.base \u001b[1;95mINFO \u001b[1;0m MainThread Filtered solvers=[StructuredSolver(id='DW_2000Q_6')]\n",
      "\u001b[1m[07:17:52.035]\u001b[0m \u001b[1;95mINFO \u001b[1;0m  \u001b[1mdwave.cloud.client.base                           \u001b[0mFiltered solvers=[StructuredSolver(id='DW_2000Q_6')]\n"
     ]
    },
    {
     "name": "stdout",
     "output_type": "stream",
     "text": [
      "Initializing NetworkV3\n"
     ]
    }
   ],
   "source": [
    "model = init_model(cfg)\n",
    "model.create_networks()"
   ]
  },
  {
   "cell_type": "code",
   "execution_count": 8,
   "id": "d6b5224c",
   "metadata": {},
   "outputs": [
    {
     "data": {
      "text/plain": [
       "'\\nNo need to run this for beta_eff* estimation\\n'"
      ]
     },
     "execution_count": 8,
     "metadata": {},
     "output_type": "execute_result"
    }
   ],
   "source": [
    "\"\"\"\n",
    "No need to run this for beta_eff* estimation\n",
    "\"\"\"\n",
    "# run_path = '/home/akajal/DiVAE/outputs/2022-03-11/15-21-04/wandb/run-20220311_152104-2junzvyl/files/GumBoltCaloCRBM_calo_default_latest.pth'\n",
    "# load_state(model, run_path, 'cuda:{0}'.format(cfg.gpu_list[0]))"
   ]
  },
  {
   "cell_type": "code",
   "execution_count": 9,
   "id": "6656c90b",
   "metadata": {},
   "outputs": [
    {
     "name": "stderr",
     "output_type": "stream",
     "text": [
      "2022-09-22 07:17:57,720 dwave.cloud.client.base \u001b[1;95mINFO \u001b[1;0m MainThread Using region metadata: [Region(code='na-west-1', name='North America', endpoint='https://na-west-1.cloud.dwavesys.com/sapi/v2/'), Region(code='eu-central-1', name='Europe', endpoint='https://eu-central-1.cloud.dwavesys.com/sapi/v2/')]\n",
      "\u001b[1m[07:17:57.720]\u001b[0m \u001b[1;95mINFO \u001b[1;0m  \u001b[1mdwave.cloud.client.base                           \u001b[0mUsing region metadata: [Region(code='na-west-1', name='North America', endpoint='https://na-west-1.cloud.dwavesys.com/sapi/v2/'), Region(code='eu-central-1', name='Europe', endpoint='https://eu-central-1.cloud.dwavesys.com/sapi/v2/')]\n",
      "2022-09-22 07:17:57,786 dwave.cloud.client.base \u001b[1;95mINFO \u001b[1;0m MainThread Requested a solver that best matches feature filters={}\n",
      "\u001b[1m[07:17:57.786]\u001b[0m \u001b[1;95mINFO \u001b[1;0m  \u001b[1mdwave.cloud.client.base                           \u001b[0mRequested a solver that best matches feature filters={}\n",
      "2022-09-22 07:17:57,790 dwave.cloud.client.base \u001b[1;95mINFO \u001b[1;0m MainThread Fetching solvers according to filters={'topology__type': 'chimera', 'chip_id': 'DW_2000Q_6'}, order_by='avg_load'\n",
      "\u001b[1m[07:17:57.790]\u001b[0m \u001b[1;95mINFO \u001b[1;0m  \u001b[1mdwave.cloud.client.base                           \u001b[0mFetching solvers according to filters={'topology__type': 'chimera', 'chip_id': 'DW_2000Q_6'}, order_by='avg_load'\n",
      "2022-09-22 07:17:57,792 dwave.cloud.client.base \u001b[1;95mINFO \u001b[1;0m MainThread Fetching definitions of all available solvers\n",
      "\u001b[1m[07:17:57.792]\u001b[0m \u001b[1;95mINFO \u001b[1;0m  \u001b[1mdwave.cloud.client.base                           \u001b[0mFetching definitions of all available solvers\n",
      "2022-09-22 07:17:58,801 dwave.cloud.client.base \u001b[1;95mINFO \u001b[1;0m MainThread Received solver data for 7 solver(s).\n",
      "\u001b[1m[07:17:58.801]\u001b[0m \u001b[1;95mINFO \u001b[1;0m  \u001b[1mdwave.cloud.client.base                           \u001b[0mReceived solver data for 7 solver(s).\n",
      "2022-09-22 07:17:58,808 dwave.cloud.client.base \u001b[1;95mINFO \u001b[1;0m MainThread Adding solver StructuredSolver(id='DW_2000Q_6')\n",
      "\u001b[1m[07:17:58.808]\u001b[0m \u001b[1;95mINFO \u001b[1;0m  \u001b[1mdwave.cloud.client.base                           \u001b[0mAdding solver StructuredSolver(id='DW_2000Q_6')\n",
      "2022-09-22 07:17:58,871 dwave.cloud.client.base \u001b[1;95mINFO \u001b[1;0m MainThread Adding solver StructuredSolver(id='Advantage_system4.1')\n",
      "\u001b[1m[07:17:58.871]\u001b[0m \u001b[1;95mINFO \u001b[1;0m  \u001b[1mdwave.cloud.client.base                           \u001b[0mAdding solver StructuredSolver(id='Advantage_system4.1')\n",
      "2022-09-22 07:17:58,944 dwave.cloud.client.base \u001b[1;95mINFO \u001b[1;0m MainThread Adding solver StructuredSolver(id='Advantage_system6.1')\n",
      "\u001b[1m[07:17:58.944]\u001b[0m \u001b[1;95mINFO \u001b[1;0m  \u001b[1mdwave.cloud.client.base                           \u001b[0mAdding solver StructuredSolver(id='Advantage_system6.1')\n",
      "2022-09-22 07:17:58,965 dwave.cloud.client.base \u001b[1;95mINFO \u001b[1;0m MainThread Adding solver StructuredSolver(id='Advantage2_prototype1.1')\n",
      "\u001b[1m[07:17:58.965]\u001b[0m \u001b[1;95mINFO \u001b[1;0m  \u001b[1mdwave.cloud.client.base                           \u001b[0mAdding solver StructuredSolver(id='Advantage2_prototype1.1')\n",
      "2022-09-22 07:17:58,968 dwave.cloud.client.base \u001b[1;95mINFO \u001b[1;0m MainThread Filtered solvers=[StructuredSolver(id='DW_2000Q_6')]\n",
      "\u001b[1m[07:17:58.968]\u001b[0m \u001b[1;95mINFO \u001b[1;0m  \u001b[1mdwave.cloud.client.base                           \u001b[0mFiltered solvers=[StructuredSolver(id='DW_2000Q_6')]\n",
      "2022-09-22 07:17:58,986 dwave.cloud.client.base \u001b[1;95mINFO \u001b[1;0m MainThread Using region metadata: [Region(code='na-west-1', name='North America', endpoint='https://na-west-1.cloud.dwavesys.com/sapi/v2/'), Region(code='eu-central-1', name='Europe', endpoint='https://eu-central-1.cloud.dwavesys.com/sapi/v2/')]\n",
      "\u001b[1m[07:17:58.986]\u001b[0m \u001b[1;95mINFO \u001b[1;0m  \u001b[1mdwave.cloud.client.base                           \u001b[0mUsing region metadata: [Region(code='na-west-1', name='North America', endpoint='https://na-west-1.cloud.dwavesys.com/sapi/v2/'), Region(code='eu-central-1', name='Europe', endpoint='https://eu-central-1.cloud.dwavesys.com/sapi/v2/')]\n",
      "2022-09-22 07:17:59,044 dwave.cloud.client.base \u001b[1;95mINFO \u001b[1;0m MainThread Requested a solver that best matches feature filters={}\n",
      "\u001b[1m[07:17:59.044]\u001b[0m \u001b[1;95mINFO \u001b[1;0m  \u001b[1mdwave.cloud.client.base                           \u001b[0mRequested a solver that best matches feature filters={}\n",
      "2022-09-22 07:17:59,047 dwave.cloud.client.base \u001b[1;95mINFO \u001b[1;0m MainThread Fetching solvers according to filters={'topology__type': 'chimera', 'chip_id': 'DW_2000Q_6'}, order_by='avg_load'\n",
      "\u001b[1m[07:17:59.047]\u001b[0m \u001b[1;95mINFO \u001b[1;0m  \u001b[1mdwave.cloud.client.base                           \u001b[0mFetching solvers according to filters={'topology__type': 'chimera', 'chip_id': 'DW_2000Q_6'}, order_by='avg_load'\n",
      "2022-09-22 07:17:59,048 dwave.cloud.client.base \u001b[1;95mINFO \u001b[1;0m MainThread Fetching definitions of all available solvers\n",
      "\u001b[1m[07:17:59.048]\u001b[0m \u001b[1;95mINFO \u001b[1;0m  \u001b[1mdwave.cloud.client.base                           \u001b[0mFetching definitions of all available solvers\n",
      "2022-09-22 07:17:59,823 dwave.cloud.client.base \u001b[1;95mINFO \u001b[1;0m MainThread Received solver data for 7 solver(s).\n",
      "\u001b[1m[07:17:59.823]\u001b[0m \u001b[1;95mINFO \u001b[1;0m  \u001b[1mdwave.cloud.client.base                           \u001b[0mReceived solver data for 7 solver(s).\n",
      "2022-09-22 07:17:59,830 dwave.cloud.client.base \u001b[1;95mINFO \u001b[1;0m MainThread Adding solver StructuredSolver(id='DW_2000Q_6')\n",
      "\u001b[1m[07:17:59.830]\u001b[0m \u001b[1;95mINFO \u001b[1;0m  \u001b[1mdwave.cloud.client.base                           \u001b[0mAdding solver StructuredSolver(id='DW_2000Q_6')\n",
      "2022-09-22 07:17:59,900 dwave.cloud.client.base \u001b[1;95mINFO \u001b[1;0m MainThread Adding solver StructuredSolver(id='Advantage_system4.1')\n",
      "\u001b[1m[07:17:59.900]\u001b[0m \u001b[1;95mINFO \u001b[1;0m  \u001b[1mdwave.cloud.client.base                           \u001b[0mAdding solver StructuredSolver(id='Advantage_system4.1')\n",
      "2022-09-22 07:17:59,972 dwave.cloud.client.base \u001b[1;95mINFO \u001b[1;0m MainThread Adding solver StructuredSolver(id='Advantage_system6.1')\n",
      "\u001b[1m[07:17:59.972]\u001b[0m \u001b[1;95mINFO \u001b[1;0m  \u001b[1mdwave.cloud.client.base                           \u001b[0mAdding solver StructuredSolver(id='Advantage_system6.1')\n",
      "2022-09-22 07:17:59,993 dwave.cloud.client.base \u001b[1;95mINFO \u001b[1;0m MainThread Adding solver StructuredSolver(id='Advantage2_prototype1.1')\n",
      "\u001b[1m[07:17:59.993]\u001b[0m \u001b[1;95mINFO \u001b[1;0m  \u001b[1mdwave.cloud.client.base                           \u001b[0mAdding solver StructuredSolver(id='Advantage2_prototype1.1')\n",
      "2022-09-22 07:17:59,995 dwave.cloud.client.base \u001b[1;95mINFO \u001b[1;0m MainThread Filtered solvers=[StructuredSolver(id='DW_2000Q_6')]\n",
      "\u001b[1m[07:17:59.995]\u001b[0m \u001b[1;95mINFO \u001b[1;0m  \u001b[1mdwave.cloud.client.base                           \u001b[0mFiltered solvers=[StructuredSolver(id='DW_2000Q_6')]\n"
     ]
    }
   ],
   "source": [
    "qpu_sampler = DWaveSampler(solver={\"topology__type\":\"chimera\", \"chip_id\":\"DW_2000Q_6\"}, token=\"DEV-3f2d995f7cc156db3ee4077a24fcc9fbb69f48ea\")\n",
    "\n",
    "aux_crbm = QimeraRBM(n_visible=model.prior._n_visible, n_hidden=model.prior._n_hidden)\n",
    "aux_crbm_sampler = PCD(batch_size=1024, RBM=aux_crbm, n_gibbs_sampling_steps=100)"
   ]
  },
  {
   "cell_type": "code",
   "execution_count": 55,
   "id": "502844c5",
   "metadata": {},
   "outputs": [],
   "source": [
    "def beta_fixed_qpu(num_iterations:int=10, lr:float=0.01, beta_init=10., n_reads:int=100, qpu_sampler=None, aux_crbm_sampler=None):\n",
    "    \"\"\"Estimate the temperature associated with a given QPU configuration\n",
    "    \n",
    "    :param num_iterations (int) : Number of iterations\n",
    "    :param lr (float) : Learning rate\n",
    "    :param beta_init (float) : Initial estimate of the QPU temperature\n",
    "    :param n_qpu_samples (int) : Number of QPU samples\n",
    "    :param qpu_sampler\n",
    "    \n",
    "    \"\"\"\n",
    "    assert qpu_sampler is not None\n",
    "    assert aux_crbm_sampler is not None\n",
    "    \n",
    "    beta = beta_init\n",
    "    betas = [beta]\n",
    "    \n",
    "    # Auxiliary scaled RBM\n",
    "    aux_crbm = aux_crbm_sampler.rbm\n",
    "    aux_crbm_edgelist = aux_crbm.pruned_edge_list\n",
    "    \n",
    "    # Setup QPU control variables\n",
    "    n_vis = len(aux_crbm.visible_qubit_idxs)\n",
    "    n_hid = len(aux_crbm.visible_qubit_idxs)\n",
    "    qubit_idxs = aux_crbm.visible_qubit_idxs+aux_crbm.hidden_qubit_idxs\n",
    "    \n",
    "    visible_idx_map = {visible_qubit_idx:i for i, visible_qubit_idx in enumerate(aux_crbm.visible_qubit_idxs)}\n",
    "    hidden_idx_map = {hidden_qubit_idx:i for i, hidden_qubit_idx in enumerate(aux_crbm.hidden_qubit_idxs)}\n",
    "        \n",
    "        \n",
    "    '''\n",
    "    We generate an Ising model with random weights and biases\n",
    "    Weights(J) are in [-1.5,0.5]\n",
    "    Biases(h) are in [-2,2]\n",
    "    '''\n",
    "    #wlim = [-1,1]\n",
    "    #ising_weights = torch.nn.Parameter((wlim[1]-wlim[0])*torch.rand(n_vis, n_hid) + wlim[0], requires_grad=False)\n",
    "    ising_weights = torch.nn.Parameter(-2*torch.rand(n_vis, n_hid) + 1.5, requires_grad=False)\n",
    "    \n",
    "    \"\"\"\n",
    "    Also note that we are using a Chimera RBM architecture. Thus we have to transform \n",
    "    our Ising model by modifying the couplings to get the Chimera RBM architecture.\n",
    "    We do this by masking the corresponding RBM weights of our ising_model\n",
    "    and then reverting the rbm model back to the ising model. \n",
    "    \"\"\"\n",
    "    aux_crbm_weights = 4.*ising_weights # weights of the corresponding RBM\n",
    "    aux_crbm_weights = aux_crbm_weights*aux_crbm.weights_mask # mask to get Chimera RBM architecture\n",
    "    ising_weights = aux_crbm_weights*0.25 # revert back to ising model\n",
    "    \n",
    "    hlim = [-2,2] # for now\n",
    "    ising_vbias = torch.nn.Parameter((hlim[1]-hlim[0])*torch.rand(n_vis)+hlim[0], requires_grad=False)\n",
    "    ising_hbias = torch.nn.Parameter((hlim[1]-hlim[0])*torch.rand(n_hid)+hlim[0], requires_grad=False)\n",
    "    \n",
    "    dwave_weights_np = -ising_weights.detach().cpu().numpy()\n",
    "    print(\"J range = ({0}, {1})\".format(np.min(dwave_weights_np),\n",
    "                                        np.max(dwave_weights_np)))\n",
    "    \n",
    "    h = {qubit_idx:0. for qubit_idx in qubit_idxs}\n",
    "    J = {}\n",
    "    for edge in aux_crbm_edgelist:\n",
    "        if edge[0] in aux_crbm.visible_qubit_idxs:\n",
    "            J[edge] = dwave_weights_np[visible_idx_map[edge[0]]][hidden_idx_map[edge[1]]]\n",
    "        else:\n",
    "            J[edge] = dwave_weights_np[visible_idx_map[edge[1]]][hidden_idx_map[edge[0]]]\n",
    "                \n",
    "    response = qpu_sampler.sample_ising(h, J, num_reads=n_reads, auto_scale=False)\n",
    "    dwave_samples, dwave_energies = batch_dwave_samples(response)\n",
    "    dwave_samples = torch.tensor(dwave_samples, dtype=torch.float)\n",
    "    dwave_vis, dwave_hid = dwave_samples[:, :n_vis], dwave_samples[:, n_vis:]\n",
    "        \n",
    "    dwave_energy_exp = ising_energies_exp(ising_weights, ising_vbias, ising_hbias, dwave_vis, dwave_hid)\n",
    "    dwave_energy_exp = torch.mean(dwave_energy_exp, axis=0)\n",
    "    print(\"dwave_energy_exp : {0}\".format(dwave_energy_exp))\n",
    "    \n",
    "    \"\"\"\n",
    "    Now recall we already have the weights of the auxilliary RBM from our previous work.\n",
    "    We now only need to convert the ising biases to RBM biases.\n",
    "    \"\"\"\n",
    "    aux_crbm._visible_bias = torch.nn.Parameter(2.*(ising_vbias - torch.sum(ising_weights, dim=1)), requires_grad=False)\n",
    "    aux_crbm._hidden_bias = torch.nn.Parameter(2.*(ising_hbias - torch.sum(ising_weights, dim=0)), requires_grad=False)\n",
    "    \n",
    "    \"\"\"\n",
    "    Recall that in each iteration of the beta_eff* estimation we change the RBM parameters. However\n",
    "    we still sample from the same RBM which has been initialized above. Hence, we keep track \n",
    "    of the original parameters by the following:\n",
    "    \"\"\"\n",
    "    rbm_orig_vis = aux_crbm._visible_bias\n",
    "    rbm_orig_hid = aux_crbm._hidden_bias\n",
    "    rbm_orig_weights = aux_crbm_weights\n",
    "    \n",
    "    for i in range(num_iterations):\n",
    "        # Calculate the rescaled parameters of the auxiliary RBM\n",
    "        aux_crbm.weights = aux_crbm_weights/beta\n",
    "        aux_crbm._visible_bias = torch.nn.Parameter(aux_crbm._visible_bias/beta, requires_grad=False) \n",
    "        aux_crbm._hidden_bias = torch.nn.Parameter(aux_crbm._hidden_bias/beta, requires_grad=False)\n",
    "        \n",
    "        \n",
    "        aux_crbm_sampler.rbm = aux_crbm\n",
    "        \n",
    "        aux_crbm_vis, aux_crbm_hid = aux_crbm_sampler.block_gibbs_sampling()\n",
    "        \n",
    "        \"\"\"\n",
    "        Finding energy using RBM method\n",
    "        \"\"\"\n",
    "        ising_energy_rbm_params = ising_energy_rbm(rbm_orig_weights, rbm_orig_vis, rbm_orig_hid, aux_crbm_vis, aux_crbm_hid)\n",
    "        rbm_energy_exp = torch.mean(ising_energy_rbm_params, axis=0)\n",
    "        \n",
    "        \n",
    "        aux_crbm_vis = torch.where(aux_crbm_vis == ZERO, MINUS_ONE, aux_crbm_vis)\n",
    "        aux_crbm_hid = torch.where(aux_crbm_hid == ZERO, MINUS_ONE, aux_crbm_hid)\n",
    "        \n",
    "        aux_crbm_energy_exp = ising_energies_exp(ising_weights, ising_vbias, ising_hbias, aux_crbm_vis, aux_crbm_hid)\n",
    "        aux_crbm_energy_exp = torch.mean(aux_crbm_energy_exp, axis=0)\n",
    "        \n",
    "        print(\"aux_crbm_energy_exp : {0}, rbm_exp : {1}, beta : {2}\".format(aux_crbm_energy_exp, rbm_energy_exp, beta))\n",
    "        beta = beta - lr*(-float(aux_crbm_energy_exp)+float(dwave_energy_exp))\n",
    "        betas.append(beta)\n",
    "        \n",
    "    return betas"
   ]
  },
  {
   "cell_type": "code",
   "execution_count": null,
   "id": "597dad51",
   "metadata": {},
   "outputs": [],
   "source": [
    "betas = beta_fixed_qpu(num_iterations=100,\n",
    "                       lr=0.0001,\n",
    "                       beta_init=8.,\n",
    "                       n_reads=100,\n",
    "                       qpu_sampler=qpu_sampler,\n",
    "                       aux_crbm_sampler=aux_crbm_sampler)"
   ]
  },
  {
   "cell_type": "code",
   "execution_count": null,
   "id": "6a2b0329",
   "metadata": {},
   "outputs": [],
   "source": [
    "plot_betas(betas)"
   ]
  },
  {
   "cell_type": "code",
   "execution_count": null,
   "id": "c92b20c2",
   "metadata": {},
   "outputs": [],
   "source": []
  },
  {
   "cell_type": "code",
   "execution_count": null,
   "id": "37fc8fca",
   "metadata": {},
   "outputs": [],
   "source": []
  }
 ],
 "metadata": {
  "kernelspec": {
   "display_name": "Python 3 (ipykernel)",
   "language": "python",
   "name": "python3"
  },
  "language_info": {
   "codemirror_mode": {
    "name": "ipython",
    "version": 3
   },
   "file_extension": ".py",
   "mimetype": "text/x-python",
   "name": "python",
   "nbconvert_exporter": "python",
   "pygments_lexer": "ipython3",
   "version": "3.8.12"
  }
 },
 "nbformat": 4,
 "nbformat_minor": 5
}
